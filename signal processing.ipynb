{
 "cells": [
  {
   "cell_type": "code",
   "execution_count": 14,
   "metadata": {},
   "outputs": [
    {
     "name": "stdout",
     "output_type": "stream",
     "text": [
      "Defaulting to user installation because normal site-packages is not writeable\n",
      "Requirement already satisfied: cffi in /home/pratyaksh/.local/lib/python3.10/site-packages (1.15.1)\n",
      "Requirement already satisfied: pysoundfile in /home/pratyaksh/.local/lib/python3.10/site-packages (0.9.0.post1)\n",
      "Requirement already satisfied: pycparser in /home/pratyaksh/.local/lib/python3.10/site-packages (from cffi) (2.21)\n",
      "Note: you may need to restart the kernel to use updated packages.\n"
     ]
    }
   ],
   "source": [
    "pip install cffi pysoundfile"
   ]
  },
  {
   "cell_type": "code",
   "execution_count": 2,
   "metadata": {},
   "outputs": [],
   "source": [
    "import matplotlib.pyplot as plt\n"
   ]
  },
  {
   "cell_type": "code",
   "execution_count": 3,
   "metadata": {},
   "outputs": [],
   "source": [
    "import numpy as np"
   ]
  },
  {
   "cell_type": "code",
   "execution_count": 4,
   "metadata": {},
   "outputs": [],
   "source": [
    "import scipy"
   ]
  },
  {
   "cell_type": "code",
   "execution_count": 5,
   "metadata": {},
   "outputs": [
    {
     "name": "stdout",
     "output_type": "stream",
     "text": [
      "\n",
      "[notice] A new release of pip available: 22.1.2 -> 22.2\n",
      "[notice] To update, run: python.exe -m pip install --upgrade pip\n",
      "Note: you may need to restart the kernel to use updated packages.\n"
     ]
    },
    {
     "name": "stderr",
     "output_type": "stream",
     "text": [
      "ERROR: Could not find a version that satisfies the requirement libffi-dev (from versions: none)\n",
      "ERROR: No matching distribution found for libffi-dev\n"
     ]
    }
   ],
   "source": [
    "pip install libffi-dev libsndfile 1"
   ]
  },
  {
   "cell_type": "markdown",
   "metadata": {},
   "source": [
    "# section 2"
   ]
  },
  {
   "cell_type": "code",
   "execution_count": 13,
   "metadata": {},
   "outputs": [],
   "source": [
    "import soundfile as sf\n",
    "from scipy import signal"
   ]
  },
  {
   "cell_type": "code",
   "execution_count": 2,
   "metadata": {},
   "outputs": [],
   "source": [
    "input_signal,fs=sf.read('sound.wav')"
   ]
  },
  {
   "cell_type": "code",
   "execution_count": 3,
   "metadata": {},
   "outputs": [],
   "source": [
    "sampl_freq=fs\n",
    "order=4\n",
    "cutoff_freq=4000\n",
    "Wn=2*cutoff_freq/sampl_freq\n",
    "b,a=signal.butter(order,Wn,'low')\n",
    "output_signal=signal.filtfilt(b,a,input_signal)"
   ]
  },
  {
   "cell_type": "code",
   "execution_count": 9,
   "metadata": {},
   "outputs": [],
   "source": [
    "sf.write('Sound_With_ReducedNoise.wav',output_signal,fs)"
   ]
  },
  {
   "cell_type": "markdown",
   "metadata": {},
   "source": [
    "# section 3"
   ]
  },
  {
   "cell_type": "code",
   "execution_count": 1,
   "metadata": {},
   "outputs": [
    {
     "name": "stdout",
     "output_type": "stream",
     "text": [
      "[ 1.00000000e+00  1.50000000e+00  3.25000000e+00  4.37500000e+00\n",
      "  2.81250000e+00  3.59375000e+00  2.03125000e-01  8.98437500e-01\n",
      " -4.49218750e-01  2.24609375e-01 -1.12304688e-01  5.61523438e-02\n",
      " -2.80761719e-02  1.40380859e-02 -7.01904297e-03  3.50952148e-03\n",
      " -1.75476074e-03  8.77380371e-04 -4.38690186e-04  0.00000000e+00]\n"
     ]
    },
    {
     "data": {
      "image/png": "[encoded data removed]",
      "text/plain": [
       "<Figure size 432x288 with 2 Axes>"
      ]
     },
     "metadata": {
      "needs_background": "light"
     },
     "output_type": "display_data"
    }
   ],
   "source": [
    "import numpy as np\n",
    "import matplotlib.pyplot as plt\n",
    "\n",
    "\n",
    "\n",
    "\n",
    "x=np.array([1.0,2.0,3.0,4.0,2.0,1.0])\n",
    "k = 20\n",
    "y = np.zeros(20)\n",
    "\n",
    "\n",
    "y[0] = x[0]\n",
    "y[1] = -0.5*y[0]+x[1]\n",
    "\n",
    "for n in range(2,k-1):\n",
    "\tif n < 6:\n",
    "\t\ty[n] = -0.5*y[n-1]+x[n]+x[n-2]\n",
    "\telif n > 5 and n < 8:\n",
    "\t\ty[n] = -0.5*y[n-1]+x[n-2]\n",
    "\telse:\n",
    "\t\ty[n] = -0.5*y[n-1]\n",
    "print(y)\n",
    "\n",
    "#subplots\n",
    "plt.subplot(2, 1, 1)\n",
    "plt.stem(range(0,6),x)\n",
    "plt.title('Digital Filter Input-Output')\n",
    "plt.ylabel('$x(n)$')\n",
    "plt.grid()# minor\n",
    "\n",
    "\n",
    "plt.subplot(2, 1, 2)\n",
    "plt.stem(range(0,k),y)\n",
    "plt.xlabel('$n$')\n",
    "plt.ylabel('$y(n)$')\n",
    "plt.grid()# minor\n",
    "\n",
    "plt.show()"
   ]
  },
  {
   "cell_type": "code",
   "execution_count": null,
   "metadata": {},
   "outputs": [],
   "source": []
  }
 ],
 "metadata": {
  "kernelspec": {
   "display_name": "Python 3.10.4 64-bit",
   "language": "python",
   "name": "python3"
  },
  "language_info": {
   "codemirror_mode": {
    "name": "ipython",
    "version": 3
   },
   "file_extension": ".py",
   "mimetype": "text/x-python",
   "name": "python",
   "nbconvert_exporter": "python",
   "pygments_lexer": "ipython3",
   "version": "3.10.4"
  },
  "orig_nbformat": 4,
  "vscode": {
   "interpreter": {
    "hash": "916dbcbb3f70747c44a77c7bcd40155683ae19c65e1c03b4aa3499c5328201f1"
   }
  }
 },
 "nbformat": 4,
 "nbformat_minor": 2
}
